{
 "cells": [
  {
   "cell_type": "code",
   "execution_count": 118,
   "id": "9cad68b7",
   "metadata": {},
   "outputs": [],
   "source": [
    "import pandas as pd"
   ]
  },
  {
   "cell_type": "code",
   "execution_count": 185,
   "id": "219b87d1",
   "metadata": {},
   "outputs": [
    {
     "name": "stdout",
     "output_type": "stream",
     "text": [
      "<class 'pandas.core.frame.DataFrame'>\n",
      "RangeIndex: 15 entries, 0 to 14\n",
      "Data columns (total 6 columns):\n",
      " #   Column  Non-Null Count  Dtype  \n",
      "---  ------  --------------  -----  \n",
      " 0   Sample  15 non-null     int64  \n",
      " 1   1       15 non-null     float64\n",
      " 2   2       15 non-null     float64\n",
      " 3   3       15 non-null     float64\n",
      " 4   4       15 non-null     float64\n",
      " 5   5       15 non-null     float64\n",
      "dtypes: float64(5), int64(1)\n",
      "memory usage: 848.0 bytes\n"
     ]
    },
    {
     "data": {
      "text/html": [
       "<div>\n",
       "<style scoped>\n",
       "    .dataframe tbody tr th:only-of-type {\n",
       "        vertical-align: middle;\n",
       "    }\n",
       "\n",
       "    .dataframe tbody tr th {\n",
       "        vertical-align: top;\n",
       "    }\n",
       "\n",
       "    .dataframe thead th {\n",
       "        text-align: right;\n",
       "    }\n",
       "</style>\n",
       "<table border=\"1\" class=\"dataframe\">\n",
       "  <thead>\n",
       "    <tr style=\"text-align: right;\">\n",
       "      <th></th>\n",
       "      <th>Sample</th>\n",
       "      <th>1</th>\n",
       "      <th>2</th>\n",
       "      <th>3</th>\n",
       "      <th>4</th>\n",
       "      <th>5</th>\n",
       "    </tr>\n",
       "  </thead>\n",
       "  <tbody>\n",
       "    <tr>\n",
       "      <th>0</th>\n",
       "      <td>1</td>\n",
       "      <td>18.06</td>\n",
       "      <td>18.04</td>\n",
       "      <td>18.00</td>\n",
       "      <td>18.02</td>\n",
       "      <td>18.04</td>\n",
       "    </tr>\n",
       "    <tr>\n",
       "      <th>1</th>\n",
       "      <td>2</td>\n",
       "      <td>18.06</td>\n",
       "      <td>18.02</td>\n",
       "      <td>18.08</td>\n",
       "      <td>18.00</td>\n",
       "      <td>18.00</td>\n",
       "    </tr>\n",
       "    <tr>\n",
       "      <th>2</th>\n",
       "      <td>3</td>\n",
       "      <td>18.02</td>\n",
       "      <td>18.04</td>\n",
       "      <td>18.04</td>\n",
       "      <td>18.06</td>\n",
       "      <td>18.02</td>\n",
       "    </tr>\n",
       "    <tr>\n",
       "      <th>3</th>\n",
       "      <td>4</td>\n",
       "      <td>18.06</td>\n",
       "      <td>18.02</td>\n",
       "      <td>18.06</td>\n",
       "      <td>18.00</td>\n",
       "      <td>18.02</td>\n",
       "    </tr>\n",
       "    <tr>\n",
       "      <th>4</th>\n",
       "      <td>5</td>\n",
       "      <td>18.08</td>\n",
       "      <td>18.04</td>\n",
       "      <td>18.06</td>\n",
       "      <td>18.02</td>\n",
       "      <td>18.06</td>\n",
       "    </tr>\n",
       "  </tbody>\n",
       "</table>\n",
       "</div>"
      ],
      "text/plain": [
       "   Sample      1      2      3      4      5\n",
       "0       1  18.06  18.04  18.00  18.02  18.04\n",
       "1       2  18.06  18.02  18.08  18.00  18.00\n",
       "2       3  18.02  18.04  18.04  18.06  18.02\n",
       "3       4  18.06  18.02  18.06  18.00  18.02\n",
       "4       5  18.08  18.04  18.06  18.02  18.06"
      ]
     },
     "execution_count": 185,
     "metadata": {},
     "output_type": "execute_result"
    }
   ],
   "source": [
    "sample_data = pd.read_excel('./assets/sample_data_1.xlsx', sheet_name=\"X bar and R chart\")\n",
    "# sample_data = pd.read_excel('./assets/sample_data_1.xlsx', sheet_name=\"C chart\")\n",
    "sample_data.info()\n",
    "sample_data.head()"
   ]
  },
  {
   "cell_type": "code",
   "execution_count": 130,
   "id": "0f7ffeec",
   "metadata": {},
   "outputs": [
    {
     "name": "stdout",
     "output_type": "stream",
     "text": [
      "Data is discrete\n",
      "Data will use either 'C chart' or 'U chart'\n"
     ]
    }
   ],
   "source": [
    "## is data discrete or continuous?\n",
    "i = 0\n",
    "num_col = len(sample_data.columns) - 1\n",
    "flag_conti = True\n",
    "while i < num_col:\n",
    "    if (sample_data[i+1]%1 == 0).all():\n",
    "        flag_conti = False\n",
    "    i+=1\n",
    "if flag_conti:\n",
    "    print(\"Data is continuous\")\n",
    "    ## is there more than one data per subgroup?\n",
    "    flag_subgroup = False\n",
    "    num_col = len(sample_data.columns) - 1\n",
    "    if num_col > 1 :\n",
    "        flag_subgroup = True\n",
    "        print(\"Data will use 'X bar & R chart' or 'X bar & S chart'\")\n",
    "    else:\n",
    "        print(\"Data will use 'XmR chart'\")\n",
    "else:\n",
    "    print(\"Data is discrete\")\n",
    "    ## does data follow Poisson distribution or Binomial \n",
    "    flag_poisson = False\n",
    "    mean = round(sample_data[1].mean(),0)\n",
    "    var = round((sample_data[1].var()),0)\n",
    "    if(mean == var):\n",
    "        flag_poisson = True\n",
    "        print(\"Data will use either 'C chart' or 'U chart'\")\n",
    "    else:\n",
    "        print(\"Data will use 'P chart'\")\n",
    "    ## print(\"Data is discrete and will use 'P chart' or 'C chart' or 'U chart' or 'G chart'\")"
   ]
  },
  {
   "cell_type": "code",
   "execution_count": 135,
   "id": "61a04df5",
   "metadata": {},
   "outputs": [],
   "source": [
    "## now that we know what chart to use for what type of data, let's create the respective charts"
   ]
  },
  {
   "cell_type": "code",
   "execution_count": 223,
   "id": "f9ef8464",
   "metadata": {},
   "outputs": [
    {
     "ename": "ModuleNotFoundError",
     "evalue": "No module named 'pyspc'",
     "output_type": "error",
     "traceback": [
      "\u001b[1;31m---------------------------------------------------------------------------\u001b[0m",
      "\u001b[1;31mModuleNotFoundError\u001b[0m                       Traceback (most recent call last)",
      "\u001b[1;32m~\\AppData\\Local\\Temp/ipykernel_6832/587256778.py\u001b[0m in \u001b[0;36m<module>\u001b[1;34m\u001b[0m\n\u001b[0;32m      1\u001b[0m \u001b[1;31m## pyspc is not working\u001b[0m\u001b[1;33m\u001b[0m\u001b[1;33m\u001b[0m\u001b[0m\n\u001b[1;32m----> 2\u001b[1;33m \u001b[1;32mfrom\u001b[0m \u001b[0mpyspc\u001b[0m \u001b[1;32mimport\u001b[0m \u001b[1;33m*\u001b[0m\u001b[1;33m\u001b[0m\u001b[1;33m\u001b[0m\u001b[0m\n\u001b[0m\u001b[0;32m      3\u001b[0m \u001b[1;33m\u001b[0m\u001b[0m\n\u001b[0;32m      4\u001b[0m \u001b[0ma\u001b[0m \u001b[1;33m=\u001b[0m \u001b[0mspc\u001b[0m\u001b[1;33m(\u001b[0m\u001b[0mpistonrings\u001b[0m\u001b[1;33m)\u001b[0m \u001b[1;33m+\u001b[0m \u001b[0mewma\u001b[0m\u001b[1;33m(\u001b[0m\u001b[1;33m)\u001b[0m\u001b[1;33m\u001b[0m\u001b[1;33m\u001b[0m\u001b[0m\n\u001b[0;32m      5\u001b[0m \u001b[0mprint\u001b[0m\u001b[1;33m(\u001b[0m\u001b[0ma\u001b[0m\u001b[1;33m)\u001b[0m\u001b[1;33m\u001b[0m\u001b[1;33m\u001b[0m\u001b[0m\n",
      "\u001b[1;31mModuleNotFoundError\u001b[0m: No module named 'pyspc'"
     ]
    }
   ],
   "source": [
    "## pyspc is not working\n",
    "from pyspc import *\n",
    "\n",
    "a = spc(pistonrings) + ewma()\n",
    "print(a)"
   ]
  },
  {
   "cell_type": "code",
   "execution_count": 221,
   "id": "bdae84fe",
   "metadata": {},
   "outputs": [
    {
     "data": {
      "text/plain": [
       "[18.048000000000002, 18.037333333333333, 18.033333333333335]"
      ]
     },
     "execution_count": 221,
     "metadata": {},
     "output_type": "execute_result"
    }
   ],
   "source": [
    "## for x bar & r chart\n",
    "## pending\n",
    "import numpy as np\n",
    "import pandas as pd\n",
    "import matplotlib.pyplot as plt\n",
    "import statistics\n",
    "\n",
    "# Set random seed\n",
    "np.random.seed(42)\n",
    "\n",
    "# Create dummy data\n",
    "x = np.array([list(sample_data[1].to_numpy()),\n",
    "        list(sample_data[2].to_numpy()),\n",
    "        list(sample_data[3].to_numpy())])\n",
    "\n",
    "# x=sample_data[1].to_numpy()\n",
    "# Define list variable for groups means\n",
    "x_bar = []\n",
    "\n",
    "# Define list variable for groups ranges\n",
    "r = [] \n",
    "\n",
    "# Get and append groups means and ranges\n",
    "for group in x:\n",
    "    x_bar.append(group.mean())\n",
    "    r.append(group.max() - group.min())\n",
    "\n",
    "# x_bar = ['{:.3f}'.format(elem) for elem in x_bar]\n",
    "x_bar\n",
    "# Plot x-bar and R charts\n",
    "# fig, axs = plt.subplots(2, figsize=(15,15))\n",
    "\n",
    "# # x-bar chart\n",
    "# axs[0].plot(x_bar, linestyle='-', marker='o', color='black')\n",
    "# axs[0].axhline((statistics.mean(x_bar)+0.577*statistics.mean(r)), color='red', linestyle='dashed')\n",
    "# axs[0].axhline((statistics.mean(x_bar)-0.577*statistics.mean(r)), color='red', linestyle='dashed')\n",
    "# axs[0].axhline((statistics.mean(x_bar)), color='blue')\n",
    "# axs[0].set_title('x-bar Chart')\n",
    "# axs[0].set(xlabel='Group', ylabel='Mean')\n",
    "\n",
    "# # R chart\n",
    "# axs[1].plot(r, linestyle='-', marker='o', color='black')\n",
    "# axs[1].axhline((2.574*statistics.mean(r)), color='red', linestyle='dashed')\n",
    "# axs[1].axhline((0*statistics.mean(r)), color='red', linestyle='dashed')\n",
    "# axs[1].axhline((statistics.mean(r)), color='blue')\n",
    "# axs[1].set_ylim(bottom=0)\n",
    "# axs[1].set_title('R Chart')\n",
    "# axs[1].set(xlabel='Group', ylabel='Range')\n",
    "\n",
    "# # Validate points out of control limits for x-bar chart\n",
    "# i = 0\n",
    "# control = True\n",
    "# for group in x_bar:\n",
    "#     if group > statistics.mean(x_bar)+0.577*statistics.mean(r) or group < statistics.mean(x_bar)-0.577*statistics.mean(r):\n",
    "#         print('Group', i, 'out of mean control limits!')\n",
    "#         control = False\n",
    "#     i += 1\n",
    "# if control == True:\n",
    "#     print('All points within control limits.')\n",
    "    \n",
    "# # Validate points out of control limits for R chart\n",
    "# i = 0\n",
    "# control = True\n",
    "# for group in r:\n",
    "#     if group > 2.574*statistics.mean(r):\n",
    "#         print('Group', i, 'out of range cotrol limits!')\n",
    "#         control = False\n",
    "#     i += 1\n",
    "# if control == True:\n",
    "#     print('All points within control limits.')"
   ]
  },
  {
   "cell_type": "code",
   "execution_count": null,
   "id": "269b2ed6",
   "metadata": {},
   "outputs": [],
   "source": []
  }
 ],
 "metadata": {
  "kernelspec": {
   "display_name": "Python 3 (ipykernel)",
   "language": "python",
   "name": "python3"
  },
  "language_info": {
   "codemirror_mode": {
    "name": "ipython",
    "version": 3
   },
   "file_extension": ".py",
   "mimetype": "text/x-python",
   "name": "python",
   "nbconvert_exporter": "python",
   "pygments_lexer": "ipython3",
   "version": "3.9.7"
  }
 },
 "nbformat": 4,
 "nbformat_minor": 5
}
